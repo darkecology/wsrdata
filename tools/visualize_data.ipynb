{
 "cells": [
  {
   "cell_type": "code",
   "execution_count": null,
   "metadata": {
    "collapsed": true
   },
   "outputs": [],
   "source": [
    "# Render from a scan and visualize\n",
    "import os\n",
    "from wsrlib import pyart, radar2mat\n",
    "from PIL import Image\n",
    "import matplotlib.pyplot as plt\n",
    "plt.figure(figsize=(15,15))\n",
    "cm = plt.get_cmap('jet')\n",
    "\n",
    "ROOT_DIR = \"../static/scans/2020/10/04/KDOX/\"\n",
    "files = os.listdir(root_path)\n",
    "\n",
    "for file in files:\n",
    "    radar = pyart.io.read_nexrad_archive(ROOT_DIR+file)\n",
    "\n",
    "    data, elevs, y, x = radar2mat(radar,\n",
    "                              fields=[\"reflectivity\"],\n",
    "                              coords='cartesian',\n",
    "                              r_max=150000)\n",
    "\n",
    "    def scale(data, a, b):\n",
    "        return np.clip((data - a)/(b-a), 0., 1.)\n",
    "\n",
    "    rgb = cm(scale(data['reflectivity'][0,::-1,:], -5, 30))\n",
    "\n",
    "    plt.imshow(rgb)\n",
    "    print(rgb.shape)\n",
    "    print(np.max(rgb))\n",
    "    print(np.min(rgb))\n",
    "\n",
    "    break"
   ]
  },
  {
   "cell_type": "code",
   "execution_count": null,
   "outputs": [],
   "source": [
    "# Visualize an npy array with annotations\n",
    "\n"
   ],
   "metadata": {
    "collapsed": false,
    "pycharm": {
     "name": "#%%\n"
    }
   }
  }
 ],
 "metadata": {
  "kernelspec": {
   "display_name": "Python 3",
   "language": "python",
   "name": "python3"
  },
  "language_info": {
   "codemirror_mode": {
    "name": "ipython",
    "version": 2
   },
   "file_extension": ".py",
   "mimetype": "text/x-python",
   "name": "python",
   "nbconvert_exporter": "python",
   "pygments_lexer": "ipython2",
   "version": "2.7.6"
  }
 },
 "nbformat": 4,
 "nbformat_minor": 0
}